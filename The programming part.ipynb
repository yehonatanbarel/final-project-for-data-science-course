{
 "cells": [
  {
   "cell_type": "markdown",
   "metadata": {},
   "source": [
    "### Q1"
   ]
  },
  {
   "cell_type": "code",
   "execution_count": 1,
   "metadata": {},
   "outputs": [
    {
     "name": "stdout",
     "output_type": "stream",
     "text": [
      "12\n",
      "a\n",
      "1010\n"
     ]
    }
   ],
   "source": [
    "def convert(number, convert_to):\n",
    "    if convert_to == 2:\n",
    "        return bin(number)[2:]\n",
    "    elif convert_to == 8:\n",
    "        return oct(number)[2:]\n",
    "    elif convert_to == 16:\n",
    "        return hex(number)[2:]\n",
    "\n",
    "print(convert(10,8))\n",
    "print(convert(10,16))\n",
    "print(convert(10,2))"
   ]
  },
  {
   "cell_type": "markdown",
   "metadata": {},
   "source": [
    "### import the dataset for part two"
   ]
  },
  {
   "cell_type": "code",
   "execution_count": 2,
   "metadata": {},
   "outputs": [],
   "source": [
    "import pandas as pd\n",
    "import matplotlib as plt\n",
    "import os\n",
    "import matplotlib.pyplot as plt\n",
    "import matplotlib\n",
    "%matplotlib inline"
   ]
  },
  {
   "cell_type": "code",
   "execution_count": 5,
   "metadata": {},
   "outputs": [
    {
     "data": {
      "text/html": [
       "<div>\n",
       "<style scoped>\n",
       "    .dataframe tbody tr th:only-of-type {\n",
       "        vertical-align: middle;\n",
       "    }\n",
       "\n",
       "    .dataframe tbody tr th {\n",
       "        vertical-align: top;\n",
       "    }\n",
       "\n",
       "    .dataframe thead th {\n",
       "        text-align: right;\n",
       "    }\n",
       "</style>\n",
       "<table border=\"1\" class=\"dataframe\">\n",
       "  <thead>\n",
       "    <tr style=\"text-align: right;\">\n",
       "      <th></th>\n",
       "      <th>title</th>\n",
       "      <th>year</th>\n",
       "      <th>name</th>\n",
       "      <th>type</th>\n",
       "      <th>character</th>\n",
       "      <th>n</th>\n",
       "    </tr>\n",
       "  </thead>\n",
       "  <tbody>\n",
       "    <tr>\n",
       "      <th>0</th>\n",
       "      <td>Suuri illusioni</td>\n",
       "      <td>1985</td>\n",
       "      <td>Homo $</td>\n",
       "      <td>actor</td>\n",
       "      <td>Guests</td>\n",
       "      <td>22.0</td>\n",
       "    </tr>\n",
       "    <tr>\n",
       "      <th>1</th>\n",
       "      <td>Gangsta Rap: The Glockumentary</td>\n",
       "      <td>2007</td>\n",
       "      <td>Too $hort</td>\n",
       "      <td>actor</td>\n",
       "      <td>Himself</td>\n",
       "      <td>NaN</td>\n",
       "    </tr>\n",
       "    <tr>\n",
       "      <th>2</th>\n",
       "      <td>Menace II Society</td>\n",
       "      <td>1993</td>\n",
       "      <td>Too $hort</td>\n",
       "      <td>actor</td>\n",
       "      <td>Lew-Loc</td>\n",
       "      <td>27.0</td>\n",
       "    </tr>\n",
       "    <tr>\n",
       "      <th>3</th>\n",
       "      <td>Porndogs: The Adventures of Sadie</td>\n",
       "      <td>2009</td>\n",
       "      <td>Too $hort</td>\n",
       "      <td>actor</td>\n",
       "      <td>Bosco</td>\n",
       "      <td>3.0</td>\n",
       "    </tr>\n",
       "    <tr>\n",
       "      <th>4</th>\n",
       "      <td>Stop Pepper Palmer</td>\n",
       "      <td>2014</td>\n",
       "      <td>Too $hort</td>\n",
       "      <td>actor</td>\n",
       "      <td>Himself</td>\n",
       "      <td>NaN</td>\n",
       "    </tr>\n",
       "  </tbody>\n",
       "</table>\n",
       "</div>"
      ],
      "text/plain": [
       "                               title  year       name   type character     n\n",
       "0                    Suuri illusioni  1985     Homo $  actor    Guests  22.0\n",
       "1     Gangsta Rap: The Glockumentary  2007  Too $hort  actor   Himself   NaN\n",
       "2                  Menace II Society  1993  Too $hort  actor   Lew-Loc  27.0\n",
       "3  Porndogs: The Adventures of Sadie  2009  Too $hort  actor     Bosco   3.0\n",
       "4                 Stop Pepper Palmer  2014  Too $hort  actor   Himself   NaN"
      ]
     },
     "execution_count": 5,
     "metadata": {},
     "output_type": "execute_result"
    }
   ],
   "source": [
    "cast = pd.read_csv(\"cast.csv\")\n",
    "cast.head()"
   ]
  },
  {
   "cell_type": "markdown",
   "metadata": {},
   "source": [
    "### Q 2.1"
   ]
  },
  {
   "cell_type": "code",
   "execution_count": 6,
   "metadata": {},
   "outputs": [
    {
     "name": "stdout",
     "output_type": "stream",
     "text": [
      "there are 17 movies with the title Hamlet\n"
     ]
    }
   ],
   "source": [
    "# Take all the \"Hamlet\" titles and remove duplicates over the years\n",
    "hamlet_title = cast[cast['title']=='Hamlet']\n",
    "sum_hamlet = hamlet_title.drop_duplicates('year')\n",
    "sum_hamlet.shape[0]\n",
    "print(f'there are {sum_hamlet.shape[0]} movies with the title Hamlet')"
   ]
  },
  {
   "cell_type": "markdown",
   "metadata": {},
   "source": [
    "### Q 2.2"
   ]
  },
  {
   "cell_type": "code",
   "execution_count": 7,
   "metadata": {},
   "outputs": [
    {
     "data": {
      "text/html": [
       "<div>\n",
       "<style scoped>\n",
       "    .dataframe tbody tr th:only-of-type {\n",
       "        vertical-align: middle;\n",
       "    }\n",
       "\n",
       "    .dataframe tbody tr th {\n",
       "        vertical-align: top;\n",
       "    }\n",
       "\n",
       "    .dataframe thead th {\n",
       "        text-align: right;\n",
       "    }\n",
       "</style>\n",
       "<table border=\"1\" class=\"dataframe\">\n",
       "  <thead>\n",
       "    <tr style=\"text-align: right;\">\n",
       "      <th></th>\n",
       "      <th>title</th>\n",
       "      <th>year</th>\n",
       "      <th>name</th>\n",
       "      <th>type</th>\n",
       "      <th>character</th>\n",
       "      <th>n</th>\n",
       "    </tr>\n",
       "  </thead>\n",
       "  <tbody>\n",
       "    <tr>\n",
       "      <th>1312766</th>\n",
       "      <td>Treasure Island</td>\n",
       "      <td>1918</td>\n",
       "      <td>Herschel Mayall</td>\n",
       "      <td>actor</td>\n",
       "      <td>Prologue Player</td>\n",
       "      <td>NaN</td>\n",
       "    </tr>\n",
       "    <tr>\n",
       "      <th>1404517</th>\n",
       "      <td>Treasure Island</td>\n",
       "      <td>1920</td>\n",
       "      <td>Bull Montana</td>\n",
       "      <td>actor</td>\n",
       "      <td>Morgan</td>\n",
       "      <td>8.0</td>\n",
       "    </tr>\n",
       "    <tr>\n",
       "      <th>926924</th>\n",
       "      <td>Treasure Island</td>\n",
       "      <td>1934</td>\n",
       "      <td>Olin Howland</td>\n",
       "      <td>actor</td>\n",
       "      <td>Pirate of the Spanish Main</td>\n",
       "      <td>13.0</td>\n",
       "    </tr>\n",
       "    <tr>\n",
       "      <th>1979467</th>\n",
       "      <td>Treasure Island</td>\n",
       "      <td>1950</td>\n",
       "      <td>Basil Sydney</td>\n",
       "      <td>actor</td>\n",
       "      <td>Captain Smollett</td>\n",
       "      <td>3.0</td>\n",
       "    </tr>\n",
       "    <tr>\n",
       "      <th>961365</th>\n",
       "      <td>Treasure Island</td>\n",
       "      <td>1972</td>\n",
       "      <td>V?ctor Israel</td>\n",
       "      <td>actor</td>\n",
       "      <td>Morgan</td>\n",
       "      <td>14.0</td>\n",
       "    </tr>\n",
       "    <tr>\n",
       "      <th>1954811</th>\n",
       "      <td>Treasure Island</td>\n",
       "      <td>1973</td>\n",
       "      <td>Larry Storch</td>\n",
       "      <td>actor</td>\n",
       "      <td>Captain Smollett</td>\n",
       "      <td>5.0</td>\n",
       "    </tr>\n",
       "    <tr>\n",
       "      <th>1137587</th>\n",
       "      <td>Treasure Island</td>\n",
       "      <td>1985</td>\n",
       "      <td>Martin Landau</td>\n",
       "      <td>actor</td>\n",
       "      <td>The Captain</td>\n",
       "      <td>2.0</td>\n",
       "    </tr>\n",
       "    <tr>\n",
       "      <th>104905</th>\n",
       "      <td>Treasure Island</td>\n",
       "      <td>1999</td>\n",
       "      <td>Lance (II) Baker</td>\n",
       "      <td>actor</td>\n",
       "      <td>Frank</td>\n",
       "      <td>1.0</td>\n",
       "    </tr>\n",
       "  </tbody>\n",
       "</table>\n",
       "</div>"
      ],
      "text/plain": [
       "                   title  year              name   type  \\\n",
       "1312766  Treasure Island  1918   Herschel Mayall  actor   \n",
       "1404517  Treasure Island  1920      Bull Montana  actor   \n",
       "926924   Treasure Island  1934      Olin Howland  actor   \n",
       "1979467  Treasure Island  1950      Basil Sydney  actor   \n",
       "961365   Treasure Island  1972     V?ctor Israel  actor   \n",
       "1954811  Treasure Island  1973      Larry Storch  actor   \n",
       "1137587  Treasure Island  1985     Martin Landau  actor   \n",
       "104905   Treasure Island  1999  Lance (II) Baker  actor   \n",
       "\n",
       "                          character     n  \n",
       "1312766             Prologue Player   NaN  \n",
       "1404517                      Morgan   8.0  \n",
       "926924   Pirate of the Spanish Main  13.0  \n",
       "1979467            Captain Smollett   3.0  \n",
       "961365                       Morgan  14.0  \n",
       "1954811            Captain Smollett   5.0  \n",
       "1137587                 The Captain   2.0  \n",
       "104905                        Frank   1.0  "
      ]
     },
     "execution_count": 7,
     "metadata": {},
     "output_type": "execute_result"
    }
   ],
   "source": [
    "title_groups = cast.groupby('title')                               # here i use groupby on all the title\n",
    "treasure_island_group = title_groups.get_group('Treasure Island')  # here i get only the Treasure Island movies\n",
    "treasure_island_sort = treasure_island_group.sort_values('year')   # here i sort them by year\n",
    "treasure_island_sort.drop_duplicates('year')"
   ]
  },
  {
   "cell_type": "markdown",
   "metadata": {},
   "source": [
    "### Q 2.3"
   ]
  },
  {
   "cell_type": "code",
   "execution_count": 8,
   "metadata": {},
   "outputs": [
    {
     "data": {
      "text/html": [
       "<div>\n",
       "<style scoped>\n",
       "    .dataframe tbody tr th:only-of-type {\n",
       "        vertical-align: middle;\n",
       "    }\n",
       "\n",
       "    .dataframe tbody tr th {\n",
       "        vertical-align: top;\n",
       "    }\n",
       "\n",
       "    .dataframe thead th {\n",
       "        text-align: right;\n",
       "    }\n",
       "</style>\n",
       "<table border=\"1\" class=\"dataframe\">\n",
       "  <thead>\n",
       "    <tr style=\"text-align: right;\">\n",
       "      <th></th>\n",
       "      <th>title</th>\n",
       "      <th>year</th>\n",
       "      <th>name</th>\n",
       "      <th>type</th>\n",
       "      <th>character</th>\n",
       "      <th>n</th>\n",
       "    </tr>\n",
       "  </thead>\n",
       "  <tbody>\n",
       "    <tr>\n",
       "      <th>2964897</th>\n",
       "      <td>Hamlet</td>\n",
       "      <td>1921</td>\n",
       "      <td>Asta Nielsen</td>\n",
       "      <td>actress</td>\n",
       "      <td>Hamlet</td>\n",
       "      <td>1.0</td>\n",
       "    </tr>\n",
       "    <tr>\n",
       "      <th>408456</th>\n",
       "      <td>Hamlet</td>\n",
       "      <td>1921</td>\n",
       "      <td>Paul Conradi</td>\n",
       "      <td>actor</td>\n",
       "      <td>K?nig Hamlet</td>\n",
       "      <td>2.0</td>\n",
       "    </tr>\n",
       "    <tr>\n",
       "      <th>2370048</th>\n",
       "      <td>Hamlet</td>\n",
       "      <td>1921</td>\n",
       "      <td>Mathilde Brandt</td>\n",
       "      <td>actress</td>\n",
       "      <td>K?nigin Gertrude</td>\n",
       "      <td>3.0</td>\n",
       "    </tr>\n",
       "    <tr>\n",
       "      <th>2116906</th>\n",
       "      <td>Hamlet</td>\n",
       "      <td>1921</td>\n",
       "      <td>Eduard von Winterstein</td>\n",
       "      <td>actor</td>\n",
       "      <td>Claudius</td>\n",
       "      <td>4.0</td>\n",
       "    </tr>\n",
       "    <tr>\n",
       "      <th>1948795</th>\n",
       "      <td>Hamlet</td>\n",
       "      <td>1921</td>\n",
       "      <td>Heinz Stieda</td>\n",
       "      <td>actor</td>\n",
       "      <td>Horatio</td>\n",
       "      <td>5.0</td>\n",
       "    </tr>\n",
       "    <tr>\n",
       "      <th>1015046</th>\n",
       "      <td>Hamlet</td>\n",
       "      <td>1921</td>\n",
       "      <td>Hans Junkermann</td>\n",
       "      <td>actor</td>\n",
       "      <td>Polonius</td>\n",
       "      <td>6.0</td>\n",
       "    </tr>\n",
       "    <tr>\n",
       "      <th>495468</th>\n",
       "      <td>Hamlet</td>\n",
       "      <td>1921</td>\n",
       "      <td>Anton De Verdier</td>\n",
       "      <td>actor</td>\n",
       "      <td>Laertes</td>\n",
       "      <td>7.0</td>\n",
       "    </tr>\n",
       "    <tr>\n",
       "      <th>2713980</th>\n",
       "      <td>Hamlet</td>\n",
       "      <td>1921</td>\n",
       "      <td>Lilly Jacobson</td>\n",
       "      <td>actress</td>\n",
       "      <td>Ophelia</td>\n",
       "      <td>8.0</td>\n",
       "    </tr>\n",
       "    <tr>\n",
       "      <th>6710</th>\n",
       "      <td>Hamlet</td>\n",
       "      <td>1921</td>\n",
       "      <td>Fritz Achterberg</td>\n",
       "      <td>actor</td>\n",
       "      <td>Fortinbras,</td>\n",
       "      <td>9.0</td>\n",
       "    </tr>\n",
       "  </tbody>\n",
       "</table>\n",
       "</div>"
      ],
      "text/plain": [
       "          title  year                    name     type         character    n\n",
       "2964897  Hamlet  1921            Asta Nielsen  actress            Hamlet  1.0\n",
       "408456   Hamlet  1921            Paul Conradi    actor      K?nig Hamlet  2.0\n",
       "2370048  Hamlet  1921         Mathilde Brandt  actress  K?nigin Gertrude  3.0\n",
       "2116906  Hamlet  1921  Eduard von Winterstein    actor          Claudius  4.0\n",
       "1948795  Hamlet  1921            Heinz Stieda    actor           Horatio  5.0\n",
       "1015046  Hamlet  1921         Hans Junkermann    actor          Polonius  6.0\n",
       "495468   Hamlet  1921        Anton De Verdier    actor           Laertes  7.0\n",
       "2713980  Hamlet  1921          Lilly Jacobson  actress           Ophelia  8.0\n",
       "6710     Hamlet  1921        Fritz Achterberg    actor       Fortinbras,  9.0"
      ]
     },
     "execution_count": 8,
     "metadata": {},
     "output_type": "execute_result"
    }
   ],
   "source": [
    "# here i take the Halmet title and in 1921 and them sort them by the feature 'n'\n",
    "hamlet1921 = (cast[(cast['title']=='Hamlet') & (cast['year']==1921)])\n",
    "hamlet1921.sort_values('n')"
   ]
  },
  {
   "cell_type": "code",
   "execution_count": 9,
   "metadata": {},
   "outputs": [
    {
     "name": "stdout",
     "output_type": "stream",
     "text": [
      "there are 9 roles in silent 1921 version of Hamlet\n"
     ]
    }
   ],
   "source": [
    "num = hamlet1921.shape[0]\n",
    "print(f'there are {num} roles in silent 1921 version of Hamlet')"
   ]
  },
  {
   "cell_type": "markdown",
   "metadata": {},
   "source": [
    "### Q 2.4"
   ]
  },
  {
   "cell_type": "code",
   "execution_count": 10,
   "metadata": {},
   "outputs": [
    {
     "name": "stdout",
     "output_type": "stream",
     "text": [
      "There are 14 movies in this category\n",
      "Between the years 1910 - 1920: 2 films were made\n",
      "Between the years 1920 - 1930: 1 films were made\n",
      "Between the years 1930 - 1940: 0 films were made\n",
      "Between the years 1940 - 1950: 1 films were made\n",
      "Between the years 1950 - 1960: 1 films were made\n",
      "Between the years 1960 - 1970: 2 films were made\n",
      "Between the years 1970 - 1980: 1 films were made\n",
      "Between the years 1980 - 1990: 0 films were made\n",
      "Between the years 1990 - 2000: 2 films were made\n",
      "Between the years 2000 - 2010: 2 films were made\n",
      "Between the years 2010 - 2020: 2 films were made\n"
     ]
    },
    {
     "data": {
      "image/png": "[encoded data removed]",
      "text/plain": [
       "<Figure size 432x288 with 1 Axes>"
      ]
     },
     "metadata": {
      "needs_background": "light"
     },
     "output_type": "display_data"
    }
   ],
   "source": [
    "#Here I used groupby to build a new dataframe of just Hamlet\n",
    "# and then i get only the movies with the title 'Hamlet' to make sure i\n",
    "#dont count a movies twice i count the numbers of 'n'=1 \n",
    "#because every movie has one main actor\n",
    "title_groups = cast.groupby('title')\n",
    "df_hamlet = title_groups.get_group('Hamlet')\n",
    "newDf = pd.DataFrame(df_hamlet)\n",
    "newDf\n",
    "\n",
    "num_of_movie = (newDf['n'] == 1).sum()\n",
    "print(f'There are {num_of_movie} movies in this category')\n",
    "\n",
    "# I sort them by year\n",
    "newDf_n1 = newDf[(newDf['n'] ==1)]\n",
    "newDf_n1.sort_values('year')\n",
    "\n",
    "# 1910 - 1920\n",
    "movies_10_20 = newDf_n1[(newDf_n1['year']>=1910) & (newDf_n1['year']<1920)]\n",
    "x1 = int(movies_10_20['n'].sum())\n",
    "print(f'Between the years 1910 - 1920: {x1} films were made')\n",
    "\n",
    "# 1920 - 1930\n",
    "movies_20_30 = newDf_n1[(newDf_n1['year']>=1920) & (newDf_n1['year']<1930)]\n",
    "x2 = int(movies_20_30['n'].sum())\n",
    "print(f'Between the years 1920 - 1930: {x2} films were made')\n",
    "\n",
    "\n",
    "# 1930 - 1940\n",
    "movies_30_40 = newDf_n1[(newDf_n1['year']>=1930) & (newDf_n1['year']<1940)]\n",
    "x3 = int(movies_30_40['n'].sum())\n",
    "print(f'Between the years 1930 - 1940: {x3} films were made')\n",
    "\n",
    "\n",
    "\n",
    "# 1940 - 1950\n",
    "movies_40_50 = newDf_n1[(newDf_n1['year']>=1940) & (newDf_n1['year']<1950)]\n",
    "x4 = int(movies_40_50['n'].sum())\n",
    "print(f'Between the years 1940 - 1950: {x4} films were made')\n",
    "\n",
    "\n",
    "\n",
    "# 1950 - 1960\n",
    "movies_50_60 = newDf_n1[(newDf_n1['year']>=1950) & (newDf_n1['year']<1960)]\n",
    "x5 = int(movies_50_60['n'].sum())\n",
    "print(f'Between the years 1950 - 1960: {x5} films were made')\n",
    "\n",
    "\n",
    "\n",
    "# 1960 - 1970\n",
    "movies_60_70 = newDf_n1[(newDf_n1['year']>=1960) & (newDf_n1['year']<1970)]\n",
    "x6 = int(movies_60_70['n'].sum())\n",
    "print(f'Between the years 1960 - 1970: {x6} films were made')\n",
    "\n",
    "\n",
    "\n",
    "# 1970 - 1980\n",
    "movies_70_80 = newDf_n1[(newDf_n1['year']>=1970) & (newDf_n1['year']<1980)]\n",
    "x7 = int(movies_70_80['n'].sum())\n",
    "print(f'Between the years 1970 - 1980: {x7} films were made')\n",
    "\n",
    "\n",
    "\n",
    "# 1980 - 1990\n",
    "movies_80_90 = newDf_n1[(newDf_n1['year']>=1980) & (newDf_n1['year']<1990)]\n",
    "x8 = int(movies_80_90['n'].sum())\n",
    "print(f'Between the years 1980 - 1990: {x8} films were made')\n",
    "\n",
    "\n",
    "\n",
    "# 1990 - 2000\n",
    "movies_90_00 = newDf_n1[(newDf_n1['year']>=1990) & (newDf_n1['year']<2000)]\n",
    "x9 = int(movies_90_00['n'].sum())\n",
    "print(f'Between the years 1990 - 2000: {x9} films were made')\n",
    "\n",
    "\n",
    "\n",
    "# 2000 - 2010\n",
    "movies_00_10 = newDf_n1[(newDf_n1['year']>=2000) & (newDf_n1['year']<2010)]\n",
    "x10 = int(movies_00_10['n'].sum())\n",
    "print(f'Between the years 2000 - 2010: {x10} films were made')\n",
    "\n",
    "\n",
    "\n",
    "# 2010 - 2020\n",
    "movies_10_20 = newDf_n1[(newDf_n1['year']>=2010) & (newDf_n1['year']<2020)]\n",
    "x11 = int(movies_10_20['n'].sum())\n",
    "print(f'Between the years 2010 - 2020: {x11} films were made')\n",
    "\n",
    "\n",
    "lst_movie_num = [x1,x2,x3,x4,x5,x6,x7,x8,x9,x10,x11]\n",
    "\n",
    "fig = plt.figure()\n",
    "\n",
    "# [(left, bottom, width, height)]\n",
    "axes = fig.add_axes([1,1,1,1])\n",
    "axes.set_title(\"number of movies each decade\")\n",
    "axes.set_ylabel(\"number of movies\")\n",
    "axes.set_xlabel(\"year\")\n",
    "\n",
    "# x axis\n",
    "between_years = ['1910 - 1920','1920 - 1930', '1930 - 1940', '1940 - 1950','1950 - 1960', '1960 - 1970','1970 - 1980','1980 - 1990','1990 - 2000','2000 - 2010','2010 - 2020']\n",
    "# y axis\n",
    "number_of_movie = [x1,x2,x3,x4,x5,x6,x7,x8,x9,x10,x11]\n",
    "\n",
    "# to make the rotation of the x label\n",
    "plt.xticks(rotation = 45)\n",
    "\n",
    "axes.bar(between_years,number_of_movie,  width=0.5)\n",
    "\n",
    "for index, value in enumerate(lst_movie_num):\n",
    "    plt.text(index,value, str(value),fontsize=12,horizontalalignment='center')\n",
    "plt.show()"
   ]
  },
  {
   "cell_type": "markdown",
   "metadata": {},
   "source": [
    "### Q 2.5 --------- this is good"
   ]
  },
  {
   "cell_type": "code",
   "execution_count": 11,
   "metadata": {},
   "outputs": [
    {
     "name": "stdout",
     "output_type": "stream",
     "text": [
      "In 1950 there were 604 roles for actors and 271 for actresses\n",
      "In 1951 there were 633 roles for actors and 272 for actresses\n",
      "In 1952 there were 591 roles for actors and 284 for actresses\n",
      "In 1953 there were 634 roles for actors and 290 for actresses\n",
      "In 1954 there were 626 roles for actors and 298 for actresses\n",
      "In 1955 there were 606 roles for actors and 264 for actresses\n",
      "In 1956 there were 614 roles for actors and 288 for actresses\n",
      "In 1957 there were 708 roles for actors and 284 for actresses\n",
      "In 1958 there were 694 roles for actors and 275 for actresses\n",
      "In 1959 there were 678 roles for actors and 287 for actresses\n"
     ]
    }
   ],
   "source": [
    "actor50 = (cast[(cast['year']== 1950) & (cast['n']==1) & (cast['type'] == 'actor')]).shape[0]\n",
    "actress50 = (cast[(cast['year']== 1950) & (cast['n']==1) & (cast['type'] == 'actress')]).shape[0]\n",
    "print(f'In 1950 there were {actor50} roles for actors and {actress50} for actresses')\n",
    "\n",
    "actor51 = (cast[(cast['year']== 1951) & (cast['n']==1) & (cast['type'] == 'actor')]).shape[0]\n",
    "actress51 = (cast[(cast['year']== 1951) & (cast['n']==1) & (cast['type'] == 'actress')]).shape[0]\n",
    "print(f'In 1951 there were {actor51} roles for actors and {actress51} for actresses')\n",
    "\n",
    "actor52 = (cast[(cast['year']== 1952) & (cast['n']==1) & (cast['type'] == 'actor')]).shape[0]\n",
    "actress52 = (cast[(cast['year']== 1952) & (cast['n']==1) & (cast['type'] == 'actress')]).shape[0]\n",
    "print(f'In 1952 there were {actor52} roles for actors and {actress52} for actresses')\n",
    "\n",
    "actor53 = (cast[(cast['year']== 1953) & (cast['n']==1) & (cast['type'] == 'actor')]).shape[0]\n",
    "actress53 = (cast[(cast['year']== 1953) & (cast['n']==1) & (cast['type'] == 'actress')]).shape[0]\n",
    "print(f'In 1953 there were {actor53} roles for actors and {actress53} for actresses')\n",
    "\n",
    "actor54 = (cast[(cast['year']== 1954) & (cast['n']==1) & (cast['type'] == 'actor')]).shape[0]\n",
    "actress54 = (cast[(cast['year']== 1954) & (cast['n']==1) & (cast['type'] == 'actress')]).shape[0]\n",
    "print(f'In 1954 there were {actor54} roles for actors and {actress54} for actresses')\n",
    "\n",
    "actor55 = (cast[(cast['year']== 1955) & (cast['n']==1) & (cast['type'] == 'actor')]).shape[0]\n",
    "actress55 = (cast[(cast['year']== 1955) & (cast['n']==1) & (cast['type'] == 'actress')]).shape[0]\n",
    "print(f'In 1955 there were {actor55} roles for actors and {actress55} for actresses')\n",
    "\n",
    "actor56 = (cast[(cast['year']== 1956) & (cast['n']==1) & (cast['type'] == 'actor')]).shape[0]\n",
    "actress56 = (cast[(cast['year']== 1956) & (cast['n']==1) & (cast['type'] == 'actress')]).shape[0]\n",
    "print(f'In 1956 there were {actor56} roles for actors and {actress56} for actresses')\n",
    "\n",
    "actor57 = (cast[(cast['year']== 1957) & (cast['n']==1) & (cast['type'] == 'actor')]).shape[0]\n",
    "actress57 = (cast[(cast['year']== 1957) & (cast['n']==1) & (cast['type'] == 'actress')]).shape[0]\n",
    "print(f'In 1957 there were {actor57} roles for actors and {actress57} for actresses')\n",
    "\n",
    "actor58 = (cast[(cast['year']== 1958) & (cast['n']==1) & (cast['type'] == 'actor')]).shape[0]\n",
    "actress58 = (cast[(cast['year']== 1958) & (cast['n']==1) & (cast['type'] == 'actress')]).shape[0]\n",
    "print(f'In 1958 there were {actor58} roles for actors and {actress58} for actresses')\n",
    "\n",
    "actor59 = (cast[(cast['year']== 1959) & (cast['n']==1) & (cast['type'] == 'actor')]).shape[0]\n",
    "actress59 = (cast[(cast['year']== 1959) & (cast['n']==1) & (cast['type'] == 'actress')]).shape[0]\n",
    "print(f'In 1959 there were {actor59} roles for actors and {actress59} for actresses')\n"
   ]
  },
  {
   "cell_type": "markdown",
   "metadata": {},
   "source": [
    "### Q 2.6"
   ]
  },
  {
   "cell_type": "code",
   "execution_count": 12,
   "metadata": {},
   "outputs": [
    {
     "data": {
      "text/plain": [
       "Mohanlal              126\n",
       "Mammootty             118\n",
       "Akshay Kumar           87\n",
       "Jayaram                76\n",
       "Andy Lau               72\n",
       "Ajay Devgn             69\n",
       "Eric Roberts           68\n",
       "Amitabh Bachchan       68\n",
       "Nagarjuna Akkineni     60\n",
       "Dilip                  59\n",
       "Name: name, dtype: int64"
      ]
     },
     "execution_count": 12,
     "metadata": {},
     "output_type": "execute_result"
    }
   ],
   "source": [
    "cast.head()\n",
    "\n",
    "# Take the films from 1990 and arrange them in order\n",
    "most_led_role = cast[cast['year'] >= 1990]\n",
    "most_led_role = pd.DataFrame(most_led_role)\n",
    "most_led_role.sort_values('year')\n",
    "\n",
    "# take only the main characters\n",
    "most_led_role = most_led_role[(most_led_role['n'] ==1)]\n",
    "most_led_role.sort_values('year')\n",
    "\n",
    "# top 10\n",
    "most_led_role['name'].value_counts()[:10]"
   ]
  },
  {
   "cell_type": "markdown",
   "metadata": {},
   "source": [
    "### Q 2.7"
   ]
  },
  {
   "cell_type": "markdown",
   "metadata": {},
   "source": [
    "- Here I created a data frame only with Frank Oz's movies so I can then search for each movie the number of times it appears in the data frame because for every movie that appears twice or more it means that Frank Oz played two or more roles there"
   ]
  },
  {
   "cell_type": "code",
   "execution_count": 13,
   "metadata": {},
   "outputs": [
    {
     "data": {
      "text/plain": [
       "['The Muppet Movie',\n",
       " 'The Great Muppet Caper',\n",
       " 'An American Werewolf in London',\n",
       " 'The Dark Crystal',\n",
       " 'The Muppets Take Manhattan',\n",
       " 'Sesame Street Presents: Follow that Bird',\n",
       " 'The Muppet Christmas Carol',\n",
       " 'Muppet Treasure Island',\n",
       " 'The Adventures of Elmo in Grouchland',\n",
       " 'Muppets from Space']"
      ]
     },
     "execution_count": 13,
     "metadata": {},
     "output_type": "execute_result"
    }
   ],
   "source": [
    "fo = cast[cast['name'] == 'Frank Oz']\n",
    "fo_df = pd.DataFrame(fo)\n",
    "sort_fo = fo_df.sort_values('year')\n",
    "sort_fo\n",
    "\n",
    "sort_fo['title'].value_counts() >=2\n",
    "\n",
    "# Now I have taken all the movies that Frank Oz appears in twice or more and created a new \n",
    "# data frame so that I can now arrange them in order\n",
    "a1 = fo_df[fo_df['title'] == 'The Muppet Movie']\n",
    "a2 = fo_df[fo_df['title'] == 'The Muppet Christmas Carol']  \n",
    "a3 = fo_df[fo_df['title'] == 'The Muppets Take Manhattan']  \n",
    "a4 = fo_df[fo_df['title'] == 'The Great Muppet Caper']\n",
    "a5 = fo_df[fo_df['title'] == 'Muppet Treasure Island']\n",
    "a6 = fo_df[fo_df['title'] == 'Muppets from Space']\n",
    "a7 = fo_df[fo_df['title'] == 'The Adventures of Elmo in Grouchland']\n",
    "a8 = fo_df[fo_df['title'] == 'Sesame Street Presents: Follow that Bird']\n",
    "a9 = fo_df[fo_df['title'] == 'The Dark Crystal']\n",
    "a10 = fo_df[fo_df['title'] == 'An American Werewolf in London']\n",
    "lstFo = [a1,a2,a3,a4,a5,a6,a7,a8,a9,a10]\n",
    "\n",
    "# new dataframe and remove duplicates\n",
    "new_fo = pd.concat(lstFo)\n",
    "x = new_fo.sort_values('year')\n",
    "no_duplicate = x.drop_duplicates('title')\n",
    "no_duplicate\n",
    "\n",
    "list(no_duplicate['title'])"
   ]
  },
  {
   "cell_type": "code",
   "execution_count": null,
   "metadata": {},
   "outputs": [],
   "source": []
  }
 ],
 "metadata": {
  "kernelspec": {
   "display_name": "Python 3",
   "language": "python",
   "name": "python3"
  },
  "language_info": {
   "codemirror_mode": {
    "name": "ipython",
    "version": 3
   },
   "file_extension": ".py",
   "mimetype": "text/x-python",
   "name": "python",
   "nbconvert_exporter": "python",
   "pygments_lexer": "ipython3",
   "version": "3.8.3"
  }
 },
 "nbformat": 4,
 "nbformat_minor": 4
}
